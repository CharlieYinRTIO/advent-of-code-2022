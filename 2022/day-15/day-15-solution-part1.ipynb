{
 "cells": [
  {
   "cell_type": "code",
   "execution_count": 43,
   "metadata": {},
   "outputs": [],
   "source": [
    "with open(\"day-15-input.txt\") as f:\n",
    "    data = f.read().strip().split('\\n')\n",
    "\n",
    "        "
   ]
  },
  {
   "cell_type": "code",
   "execution_count": 26,
   "metadata": {},
   "outputs": [],
   "source": [
    "def getSensorAndBeacon(data):\n",
    "    sensors = []\n",
    "    beacons = []\n",
    "\n",
    "    for row in data:\n",
    "        sensX, sensY, beacX, beacY = ([int(i.strip()) for i in row.replace(\"Sensor at x=\",\"\")\n",
    "                                                                  .replace(\"y=\",\"\")\n",
    "                                                                  .replace(\": closest beacon is at x=\",\",\")\n",
    "                                                                  .split(\",\")])\n",
    "\n",
    "\n",
    "        sensors.append((sensX, sensY))\n",
    "        beacons.append((beacX, beacY))\n",
    "    \n",
    "    return sensors,beacons\n",
    "\n",
    "def getManDist(a,b):\n",
    "    return abs(a[0] - b[0]) + abs(a[1] - b[1])"
   ]
  },
  {
   "cell_type": "code",
   "execution_count": 54,
   "metadata": {},
   "outputs": [
    {
     "data": {
      "text/plain": [
       "6425133"
      ]
     },
     "execution_count": 54,
     "metadata": {},
     "output_type": "execute_result"
    }
   ],
   "source": [
    "## Get sensor and beacon coordinates\n",
    "sensors,beacons = getSensorAndBeacon(data)\n",
    "\n",
    "## Get number of sensors\n",
    "numSens = len(sensors)\n",
    "\n",
    "## Set distances list\n",
    "distances = []\n",
    "\n",
    "## Iterate through and calc dist from sensor to beacon at index idx\n",
    "for idx in range(numSens):\n",
    "    distances.append(getManDist(sensors[idx], beacons[idx]))\n",
    "\n",
    "\n",
    "bigY = 2_000_000\n",
    "\n",
    "## just to help for now\n",
    "locX = 0\n",
    "locY = 1\n",
    "\n",
    "## Find intersection with line bigY\n",
    "ints = []\n",
    "\n",
    "for idx, sensor in enumerate(sensors):\n",
    "    ## DistX is the distance between sensor and beacon at idx MINUS the abs value of sensor Y coord - Y = 2_000_000\n",
    "    distX = distances[idx] - abs(sensor[locY] - bigY)\n",
    "\n",
    "    ## If distX greater than 0, append the intersection on the bigY line\n",
    "    if distX > 0:\n",
    "        ints.append((sensor[locX] - distX, sensor[locX] + distX))\n",
    "\n",
    "\n",
    "## gonna be a bunch of overlapping coordinates...\n",
    "\n",
    "nonOverlapping = []\n",
    "\n",
    "for x, y in beacons:\n",
    "    if y == bigY:\n",
    "        nonOverlapping.append(x)\n",
    "\n",
    "## Now we have a nice interval line at bigY where we know where the distances around the sensors intersect with out bigY line\n",
    "## Need to get the min and max values of x along our bigY line\n",
    "\n",
    "minX = min([i[0] for i in ints])\n",
    "maxX = max([i[1] for i in ints])\n",
    "\n",
    "ans = 0\n",
    "\n",
    "for i in range(minX, maxX + 1):\n",
    "    if i in nonOverlapping:\n",
    "        continue\n",
    "    for left, right in ints:\n",
    "        if left <= i <= right:\n",
    "            ans += 1\n",
    "            break\n",
    "\n",
    "\n",
    "ans"
   ]
  }
 ],
 "metadata": {
  "kernelspec": {
   "display_name": "Python 3.9.6 64-bit",
   "language": "python",
   "name": "python3"
  },
  "language_info": {
   "codemirror_mode": {
    "name": "ipython",
    "version": 3
   },
   "file_extension": ".py",
   "mimetype": "text/x-python",
   "name": "python",
   "nbconvert_exporter": "python",
   "pygments_lexer": "ipython3",
   "version": "3.9.6"
  },
  "orig_nbformat": 4,
  "vscode": {
   "interpreter": {
    "hash": "644ee83b2e102bce73c699210dcc1532722455bb0e7f4f871d1402f6f00a2952"
   }
  }
 },
 "nbformat": 4,
 "nbformat_minor": 2
}
