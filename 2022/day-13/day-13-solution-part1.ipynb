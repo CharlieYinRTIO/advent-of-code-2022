{
 "cells": [
  {
   "cell_type": "code",
   "execution_count": 2,
   "metadata": {},
   "outputs": [],
   "source": [
    "import ast\n",
    "day = 13\n",
    "\n",
    "\n",
    "## Import data and store as list of list with int type\n",
    "with open(f'day-{str(day)}-input.txt', 'r') as f:\n",
    "    data = [i.split() for i in f.read().split(\"\\n\\n\")]\n",
    "\n",
    "\n",
    "## convert string rep of list object into list type\n",
    "for i in range(len(data)):\n",
    "    ## ast.literal_eval turns a string representation of a list into an actual list --> pretty cool\n",
    "    data[i][0] = ast.literal_eval(data[i][0])\n",
    "    data[i][1] = ast.literal_eval(data[i][1])\n",
    "\n"
   ]
  },
  {
   "cell_type": "code",
   "execution_count": 3,
   "metadata": {},
   "outputs": [
    {
     "name": "stdout",
     "output_type": "stream",
     "text": [
      "5506\n"
     ]
    }
   ],
   "source": [
    "def compareValues(left,right):\n",
    "\n",
    "    ## if one value is an integer which, convert the integer to a list which containers that integer as ts only value\n",
    "    if isinstance(left, list) and isinstance(right, int):\n",
    "        right = [right]\n",
    "    ## same as above\n",
    "    if isinstance(left, int) and isinstance(right, list):\n",
    "        left = [left]\n",
    "\n",
    "    ## If both values are ints, the lower integer should come first\n",
    "    if isinstance(left, int) and isinstance(right, int):\n",
    "        if left < right:\n",
    "            return 1 ## Correct order\n",
    "        elif left == right:\n",
    "            return 0\n",
    "        return -1\n",
    "\n",
    "    ## If both values are list, compare the first value of each list, then the second value...recursion\n",
    "    if isinstance(left, list) and isinstance(right, list):\n",
    "        idx = 0\n",
    "\n",
    "        ## While idx is less than either len of list left or right\n",
    "        while idx < len(left) and idx < len(right):\n",
    "            ## recurse\n",
    "            recurse = compareValues(left[idx], right[idx])\n",
    "\n",
    "            if recurse == 1:\n",
    "                return 1 ## Correct order\n",
    "            if recurse == -1:\n",
    "                return -1\n",
    "            \n",
    "            ## increase the idx\n",
    "            idx += 1\n",
    "        \n",
    "        if idx == len(left):\n",
    "            if len(left) == len(right):\n",
    "                return 0\n",
    "            return 1 ## Correct order\n",
    "        if idx == len(right):\n",
    "            return - 1\n",
    "\n",
    "\n",
    "\n",
    "## Initiate result\n",
    "result = []\n",
    "\n",
    "for idx, values in enumerate(data):\n",
    "    left, right = values\n",
    "    \n",
    "    if compareValues(left, right) == 1:\n",
    "        result.append(idx + 1)\n",
    "\n",
    "\n",
    "print(sum(result))"
   ]
  }
 ],
 "metadata": {
  "kernelspec": {
   "display_name": "Python 3.9.6 64-bit",
   "language": "python",
   "name": "python3"
  },
  "language_info": {
   "codemirror_mode": {
    "name": "ipython",
    "version": 3
   },
   "file_extension": ".py",
   "mimetype": "text/x-python",
   "name": "python",
   "nbconvert_exporter": "python",
   "pygments_lexer": "ipython3",
   "version": "3.9.6"
  },
  "orig_nbformat": 4,
  "vscode": {
   "interpreter": {
    "hash": "644ee83b2e102bce73c699210dcc1532722455bb0e7f4f871d1402f6f00a2952"
   }
  }
 },
 "nbformat": 4,
 "nbformat_minor": 2
}
