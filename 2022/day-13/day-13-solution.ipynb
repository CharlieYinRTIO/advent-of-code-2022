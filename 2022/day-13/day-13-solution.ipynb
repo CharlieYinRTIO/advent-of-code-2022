{
 "cells": [
  {
   "cell_type": "markdown",
   "metadata": {},
   "source": [
    "# --- Day 13: Distress Signal ---"
   ]
  },
  {
   "cell_type": "code",
   "execution_count": 8,
   "metadata": {},
   "outputs": [],
   "source": [
    "import ast\n",
    "from functools import cmp_to_key\n",
    "day = 13\n",
    "\n",
    "\n",
    "## Import data and store as list of list with int type\n",
    "with open(f'day-{str(day)}-input.txt', 'r') as f:\n",
    "    data = [i.split() for i in f.read().split(\"\\n\\n\")]\n",
    "\n",
    "\n",
    "## convert string rep of list object into list type\n",
    "for i in range(len(data)):\n",
    "    ## ast.literal_eval turns a string representation of a list into an actual list --> pretty cool\n",
    "    data[i][0] = ast.literal_eval(data[i][0])\n",
    "    data[i][1] = ast.literal_eval(data[i][1])\n",
    "\n"
   ]
  },
  {
   "cell_type": "code",
   "execution_count": 9,
   "metadata": {},
   "outputs": [],
   "source": [
    "def compareValues(left,right):\n",
    "\n",
    "    ## if one value is an integer which, convert the integer to a list which containers that integer as ts only value\n",
    "    if isinstance(left, list) and isinstance(right, int):\n",
    "        right = [right]\n",
    "    ## same as above\n",
    "    if isinstance(left, int) and isinstance(right, list):\n",
    "        left = [left]\n",
    "\n",
    "    ## If both values are ints, the lower integer should come first\n",
    "    if isinstance(left, int) and isinstance(right, int):\n",
    "        if left < right:\n",
    "            return 1 ## Correct order\n",
    "        elif left == right:\n",
    "            return 0\n",
    "        return -1\n",
    "\n",
    "    ## If both values are list, compare the first value of each list, then the second value...recursion\n",
    "    if isinstance(left, list) and isinstance(right, list):\n",
    "        idx = 0\n",
    "\n",
    "        ## While idx is less than either len of list left or right\n",
    "        while idx < len(left) and idx < len(right):\n",
    "            ## recurse\n",
    "            recurse = compareValues(left[idx], right[idx])\n",
    "\n",
    "            if recurse == 1:\n",
    "                return 1 ## Correct order\n",
    "            if recurse == -1:\n",
    "                return -1\n",
    "            \n",
    "            ## increase the idx\n",
    "            idx += 1\n",
    "        \n",
    "        if idx == len(left):\n",
    "            if len(left) == len(right):\n",
    "                return 0\n",
    "            return 1 ## Correct order\n",
    "        if idx == len(right):\n",
    "            return - 1\n"
   ]
  },
  {
   "cell_type": "code",
   "execution_count": 10,
   "metadata": {},
   "outputs": [
    {
     "name": "stdout",
     "output_type": "stream",
     "text": [
      "5506\n"
     ]
    }
   ],
   "source": [
    "## Task 1\n",
    "## Initiate result\n",
    "result = []\n",
    "\n",
    "for idx, values in enumerate(data):\n",
    "    left, right = values\n",
    "    \n",
    "    if compareValues(left, right) == 1:\n",
    "        result.append(idx + 1)\n",
    "\n",
    "print(sum(result))"
   ]
  },
  {
   "cell_type": "code",
   "execution_count": 13,
   "metadata": {},
   "outputs": [
    {
     "data": {
      "text/plain": [
       "21756"
      ]
     },
     "execution_count": 13,
     "metadata": {},
     "output_type": "execute_result"
    }
   ],
   "source": [
    "# Task 2\n",
    "# Need to get data into a list of lists, ignoring the pairs of packets\n",
    "\n",
    "with open(f'day-{str(day)}-input.txt', 'r') as f:\n",
    "    # Replace \"\\n\\n\" with \"\\n\" then split on the \"\\n\"\n",
    "    data = f.read().strip().replace(\"\\n\\n\", \"\\n\")\n",
    "    data = data.split(\"\\n\")\n",
    "\n",
    "## learnt about mapping today --> cool!. Basically just a list comprehension but i guess kinda looks cooler\n",
    "## ~= same as data = [ast.literal_eval(i) for i in data]\n",
    "\n",
    "data = list(map(ast.literal_eval,data))\n",
    "\n",
    "## add in divider packets\n",
    "div1 = [[2]]\n",
    "div2 = [[6]]\n",
    "\n",
    "data.append(div1)\n",
    "data.append(div2)\n",
    "\n",
    "## cmp_to_key\n",
    "\n",
    "## To the sorted function you can apply a key\n",
    "\n",
    "# Each element is compared with every other element of the list until a sorted list is obtained\n",
    "# Every element apparently calls mycmp() function with the other element of the list\n",
    "# mycmp() function returns a key after comparing the numbers\n",
    "# This key is eventually helping sorted() to arrange elements in ascending order\n",
    "\n",
    "sortedData = sorted(data,\n",
    "                    key = cmp_to_key(compareValues),\n",
    "                    reverse = True)\n",
    "\n",
    "## now find where those divs are in the sortedData\n",
    "\n",
    "(sortedData.index(div1) + 1) * (sortedData.index(div2) + 1) \n",
    "\n"
   ]
  }
 ],
 "metadata": {
  "kernelspec": {
   "display_name": "Python 3.9.6 64-bit",
   "language": "python",
   "name": "python3"
  },
  "language_info": {
   "codemirror_mode": {
    "name": "ipython",
    "version": 3
   },
   "file_extension": ".py",
   "mimetype": "text/x-python",
   "name": "python",
   "nbconvert_exporter": "python",
   "pygments_lexer": "ipython3",
   "version": "3.9.6"
  },
  "orig_nbformat": 4,
  "vscode": {
   "interpreter": {
    "hash": "644ee83b2e102bce73c699210dcc1532722455bb0e7f4f871d1402f6f00a2952"
   }
  }
 },
 "nbformat": 4,
 "nbformat_minor": 2
}
