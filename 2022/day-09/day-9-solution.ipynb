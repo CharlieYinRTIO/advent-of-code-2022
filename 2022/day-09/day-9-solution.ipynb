{
 "cells": [
  {
   "cell_type": "markdown",
   "metadata": {},
   "source": [
    "# --- Day 9: Rope Bridge ---"
   ]
  },
  {
   "cell_type": "code",
   "execution_count": 2,
   "metadata": {},
   "outputs": [],
   "source": [
    "day = 9\n",
    "\n",
    "## Import data and store as list of list with int type\n",
    "with open(f'day-{str(day)}-input.txt', 'r') as f:\n",
    "    data = [i.split(\" \") for i in f.read().splitlines()]\n",
    "\n"
   ]
  },
  {
   "cell_type": "code",
   "execution_count": 3,
   "metadata": {},
   "outputs": [
    {
     "data": {
      "text/plain": [
       "6563"
      ]
     },
     "execution_count": 3,
     "metadata": {},
     "output_type": "execute_result"
    }
   ],
   "source": [
    "def isTouching(headPos, tailPos):\n",
    "    surrounding = []\n",
    "    for i in range(headPos[0] - 1, headPos[0] + 2):\n",
    "        for j in range(headPos[1] - 1, headPos[1] + 2):\n",
    "            # if [i,j] != headPos:\n",
    "            surrounding.append([i,j])\n",
    "    return tailPos in surrounding\n",
    "\n",
    "def makeMove(direction, step, dict, headPos, tailPos,tailHasBeen):\n",
    "    for i in range(0, int(step)):\n",
    "        newHeadPos = headPos.copy()\n",
    "        idx, amount = dict[direction][0],dict[direction][1]\n",
    "        newHeadPos[idx] += amount\n",
    "        if not isTouching(newHeadPos,tailPos):\n",
    "            tailPos = headPos\n",
    "            tailHasBeen.append(tailPos)\n",
    "        headPos = newHeadPos\n",
    "    return headPos,tailPos\n",
    "        \n",
    "direct = {\"R\": [1,1], \"L\":[1,-1], \"U\": [0,-1], \"D\": [0,1]}\n",
    "headPos = [0,0]\n",
    "tailPos = [0,0]\n",
    "tailHasBeen = []\n",
    "\n",
    "for direction, step in data:\n",
    "    headPos, tailPos = makeMove(direction, step, direct, headPos, tailPos, tailHasBeen)\n",
    "\n",
    "len(set(tuple(row) for row in tailHasBeen)) + 1\n",
    "\n",
    "\n",
    "\n",
    "\n",
    "\n",
    "    "
   ]
  }
 ],
 "metadata": {
  "kernelspec": {
   "display_name": "Python 3.9.6 64-bit",
   "language": "python",
   "name": "python3"
  },
  "language_info": {
   "codemirror_mode": {
    "name": "ipython",
    "version": 3
   },
   "file_extension": ".py",
   "mimetype": "text/x-python",
   "name": "python",
   "nbconvert_exporter": "python",
   "pygments_lexer": "ipython3",
   "version": "3.9.6"
  },
  "orig_nbformat": 4,
  "vscode": {
   "interpreter": {
    "hash": "644ee83b2e102bce73c699210dcc1532722455bb0e7f4f871d1402f6f00a2952"
   }
  }
 },
 "nbformat": 4,
 "nbformat_minor": 2
}
