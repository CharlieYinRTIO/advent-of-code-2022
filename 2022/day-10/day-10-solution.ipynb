{
 "cells": [
  {
   "cell_type": "markdown",
   "metadata": {},
   "source": [
    "# --- Day 10: Cathode-Ray Tube ---"
   ]
  },
  {
   "cell_type": "code",
   "execution_count": 46,
   "metadata": {},
   "outputs": [
    {
     "data": {
      "text/plain": [
       "[['addx', '2'], ['addx', '4'], ['noop'], ['noop'], ['addx', '17'], ['noop']]"
      ]
     },
     "execution_count": 46,
     "metadata": {},
     "output_type": "execute_result"
    }
   ],
   "source": [
    "day = 10\n",
    "\n",
    "## Import data and store as list of list with int type\n",
    "with open(f'day-{str(day)}-input.txt', 'r') as f:\n",
    "    data = [i.split(\" \") for i in f.read().splitlines()]\n",
    "\n",
    "data[:6]\n"
   ]
  },
  {
   "cell_type": "code",
   "execution_count": 77,
   "metadata": {},
   "outputs": [
    {
     "data": {
      "text/plain": [
       "13480"
      ]
     },
     "execution_count": 77,
     "metadata": {},
     "output_type": "execute_result"
    }
   ],
   "source": [
    "## TASK 1\n",
    "values = [1]\n",
    "\n",
    "for instruction in data:\n",
    "    if instruction[0] == 'noop':\n",
    "        ## If \"noop\" add cycle but same value\n",
    "        values.append(values[-1])\n",
    "    elif instruction[0] == 'addx':\n",
    "        ## If \"addx\" add cycle and then add another cycle with value += to the number in the instruction\n",
    "        values.append(values[-1])\n",
    "        values.append(values[-1] + int(instruction[1]))\n",
    "\n",
    "## store important cycles in list\n",
    "important = (20,60,100,140,180,220)\n",
    "\n",
    "## store the cycle * value (-1 index) for each important cycle\n",
    "sumVals = [cycle * values[cycle - 1] for cycle in important]\n",
    "\n",
    "## sum for answer\n",
    "sum(sumVals)\n"
   ]
  },
  {
   "cell_type": "code",
   "execution_count": 132,
   "metadata": {},
   "outputs": [
    {
     "name": "stdout",
     "output_type": "stream",
     "text": [
      "$$$$  $$    $$ $$$   $$   $$  $$$$ $  $ \n",
      "$    $  $    $ $  $ $  $ $  $ $    $ $  \n",
      "$$$  $       $ $$$  $    $    $$$  $$   \n",
      "$    $ $$    $ $  $ $ $$ $    $    $ $  \n",
      "$    $  $ $  $ $  $ $  $ $  $ $    $ $  \n",
      "$$$$  $$$  $$  $$$   $$$  $$  $    $  $ \n",
      " "
     ]
    }
   ],
   "source": [
    "## TASK 2\n",
    "\n",
    "\n",
    "# iterate through index and value in the cycle values \n",
    "for idx, val in enumerate(values):\n",
    "    print(\"$\" if abs(idx % 40 - val) <= 1 else \" \", end=\"\" if (idx + 1) % 40 else \"\\n\")\n",
    "\n",
    "\n",
    "    ## If the absolute value of the (index mod 40) minus the cycle value AND (index + 1) mod 40, print char w/0 newline\n",
    "    # if abs(idx % 40 - val) <= 1 and (idx + 1) % 40:\n",
    "    #     print(\"$\", end = \"\" )\n",
    "    ## Dont print symbol and start new line\n",
    "    # else:\n",
    "    #     print(\" \", end = \"\\n\")\n"
   ]
  }
 ],
 "metadata": {
  "kernelspec": {
   "display_name": "Python 3.9.6 64-bit",
   "language": "python",
   "name": "python3"
  },
  "language_info": {
   "codemirror_mode": {
    "name": "ipython",
    "version": 3
   },
   "file_extension": ".py",
   "mimetype": "text/x-python",
   "name": "python",
   "nbconvert_exporter": "python",
   "pygments_lexer": "ipython3",
   "version": "3.9.6"
  },
  "orig_nbformat": 4,
  "vscode": {
   "interpreter": {
    "hash": "644ee83b2e102bce73c699210dcc1532722455bb0e7f4f871d1402f6f00a2952"
   }
  }
 },
 "nbformat": 4,
 "nbformat_minor": 2
}
