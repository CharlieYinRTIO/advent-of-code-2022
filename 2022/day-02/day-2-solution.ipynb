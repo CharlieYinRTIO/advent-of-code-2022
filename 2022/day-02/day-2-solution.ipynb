{
 "cells": [
  {
   "cell_type": "markdown",
   "metadata": {},
   "source": [
    "## --- Day 2: Roack Paper Scissors ---"
   ]
  },
  {
   "cell_type": "code",
   "execution_count": 6,
   "metadata": {},
   "outputs": [],
   "source": [
    "## Import data\n",
    "with open('day-2-input.txt', 'r') as f:\n",
    "    data = f.readlines()\n",
    "\n",
    "data = [i.strip().split(\" \") for i in data]"
   ]
  },
  {
   "cell_type": "code",
   "execution_count": 5,
   "metadata": {},
   "outputs": [
    {
     "name": "stdout",
     "output_type": "stream",
     "text": [
      "The total score, if everything went to plan, would be 11666\n"
     ]
    }
   ],
   "source": [
    "## Task 1 : What would your total score be if everything goes exactly according to your strategy guide?\n",
    "\n",
    "win,lose,draw = 6,0,3\n",
    "rock,paper,scissors = 1,2,3 \n",
    "## Opponent\n",
    "# A Rock\n",
    "# B Paper\n",
    "# C Scissors\n",
    "\n",
    "## You\n",
    "# X - Rock\n",
    "# Y - Paper\n",
    "# Z - Scisors\n",
    "score = 0\n",
    "for opp, you in data:\n",
    "    if opp == \"A\": # Rock\n",
    "        if you == \"X\": # Rock\n",
    "            score += rock\n",
    "            score += draw\n",
    "        elif you == \"Y\": # Paper\n",
    "            score += paper\n",
    "            score += win\n",
    "        elif you == \"Z\": # Scissors\n",
    "            score += scissors\n",
    "            score += lose\n",
    "    elif opp == \"B\": # Paper\n",
    "        if you == \"X\": # Rock\n",
    "            score += rock\n",
    "            score += lose\n",
    "        elif you == \"Y\": # Paper\n",
    "            score += paper\n",
    "            score += draw\n",
    "        elif you == \"Z\": # Scissors\n",
    "            score += scissors\n",
    "            score += 6\n",
    "    if opp == \"C\": # Scissors\n",
    "        if you == \"X\": # Rock\n",
    "            score += rock\n",
    "            score += win\n",
    "        elif you == \"Y\": # Paper\n",
    "            score += paper\n",
    "            score += lose\n",
    "        elif you == \"Z\": # Scissors\n",
    "            score += scissors\n",
    "            score += draw\n",
    "\n",
    "print(f\"The total score, if everything went to plan, would be {score}\")\n"
   ]
  },
  {
   "cell_type": "code",
   "execution_count": 9,
   "metadata": {},
   "outputs": [
    {
     "name": "stdout",
     "output_type": "stream",
     "text": [
      "The total score, if everything went to plan, would be 12767\n"
     ]
    }
   ],
   "source": [
    "## Task 2 : Following the Elf's instructions for the second column, \n",
    "## what would your total score be if everything goes exactly according to your strategy guide?\n",
    "\n",
    "## Opponent\n",
    "# A Rock 1\n",
    "# B Paper 2\n",
    "# C Scissors 3 \n",
    "\n",
    "## You\n",
    "# X - LOSE\n",
    "# Y - DRAW\n",
    "# Z - WIN\n",
    "\n",
    "win,lose,draw = 6,0,3\n",
    "rock,paper,scissors = 1,2,3 \n",
    "score = 0\n",
    "for opp, you in data:\n",
    "    if opp == \"A\": # Rock\n",
    "        if you == \"X\": # Lose Scissors \n",
    "            score += scissors\n",
    "            score += lose\n",
    "        elif you == \"Y\": # Draw Rock\n",
    "            score += rock\n",
    "            score += draw\n",
    "        elif you == \"Z\": # Win Paper\n",
    "            score += paper\n",
    "            score += win\n",
    "    elif opp == \"B\": # Paper\n",
    "        if you == \"X\": # Lose Rock\n",
    "            score += rock\n",
    "            score += lose\n",
    "        elif you == \"Y\": # Draw Paper\n",
    "            score += draw\n",
    "            score += paper\n",
    "        elif you == \"Z\": # Win Scissors\n",
    "            score += scissors\n",
    "            score += win\n",
    "    if opp == \"C\": # Scissors\n",
    "        if you == \"X\": # Lose Paper\n",
    "            score += paper\n",
    "            score += lose\n",
    "        elif you == \"Y\": # Draw Scissors\n",
    "            score += scissors\n",
    "            score += draw\n",
    "        elif you == \"Z\": # Win Rock\n",
    "            score += rock\n",
    "            score += win\n",
    "\n",
    "print(f\"The total score, if everything went to plan, would be {score}\")"
   ]
  }
 ],
 "metadata": {
  "kernelspec": {
   "display_name": "Python 3.9.6 64-bit",
   "language": "python",
   "name": "python3"
  },
  "language_info": {
   "codemirror_mode": {
    "name": "ipython",
    "version": 3
   },
   "file_extension": ".py",
   "mimetype": "text/x-python",
   "name": "python",
   "nbconvert_exporter": "python",
   "pygments_lexer": "ipython3",
   "version": "3.9.6"
  },
  "orig_nbformat": 4,
  "vscode": {
   "interpreter": {
    "hash": "644ee83b2e102bce73c699210dcc1532722455bb0e7f4f871d1402f6f00a2952"
   }
  }
 },
 "nbformat": 4,
 "nbformat_minor": 2
}
