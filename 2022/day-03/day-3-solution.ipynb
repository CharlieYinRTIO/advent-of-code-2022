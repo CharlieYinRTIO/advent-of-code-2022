{
 "cells": [
  {
   "cell_type": "markdown",
   "metadata": {},
   "source": [
    "## --- Day 3: Rucksack Reorganization ---"
   ]
  },
  {
   "cell_type": "code",
   "execution_count": 2,
   "metadata": {},
   "outputs": [],
   "source": [
    "## Import data\n",
    "with open('day-3-input.txt', 'r') as f:\n",
    "    data = f.readlines()\n",
    "\n",
    "## Set alphabet\n",
    "alphabet = \"abcdefghijklmnopqrstuvwxyz\"\n",
    "\n",
    "## Set Upper and Lower Case scores\n",
    "lowerCase = [(i,j) for (i,j) in enumerate(alphabet, start = 1)]\n",
    "\n",
    "upperCase = [(i,j)  for i,j in enumerate(alphabet, start = 27)]\n",
    "\n",
    "## Define split_list function\n",
    "def split_list(a_list):\n",
    "    half = len(a_list)//2\n",
    "    return a_list[:half], a_list[half:]"
   ]
  },
  {
   "cell_type": "code",
   "execution_count": 3,
   "metadata": {},
   "outputs": [
    {
     "data": {
      "text/plain": [
       "7980"
      ]
     },
     "execution_count": 3,
     "metadata": {},
     "output_type": "execute_result"
    }
   ],
   "source": [
    "## Task 1 \n",
    "score = 0\n",
    "\n",
    "for i in range(len(data)):\n",
    "    first, second = split_list(data[i])\n",
    "\n",
    "    common = list(set(first).intersection(second))\n",
    "\n",
    "    if common[0].islower():\n",
    "        score += (lowerCase[alphabet.index(common[0])][0])\n",
    "\n",
    "    else:\n",
    "        common[0] = common[0].lower()\n",
    "        score += (upperCase[alphabet.index(common[0])][0])\n",
    "\n",
    "score"
   ]
  },
  {
   "cell_type": "code",
   "execution_count": null,
   "metadata": {},
   "outputs": [],
   "source": [
    "## Task 2\n",
    "score = 0\n",
    "for i in range(0,len(data),3):\n",
    "    first = data[i].strip()\n",
    "    second = data[i+1].strip()\n",
    "    third = data [i+2].strip()\n",
    "\n",
    "    common = (list(set(first) & set(second) & set(third)))\n",
    "\n",
    "    if common[0].islower():\n",
    "            score += (lowerCase[alphabet.index(common[0])][0])\n",
    "\n",
    "    else:\n",
    "        common[0] = common[0].lower()\n",
    "        score += (upperCase[alphabet.index(common[0])][0])\n",
    "\n",
    "score"
   ]
  }
 ],
 "metadata": {
  "kernelspec": {
   "display_name": "Python 3.9.6 64-bit",
   "language": "python",
   "name": "python3"
  },
  "language_info": {
   "codemirror_mode": {
    "name": "ipython",
    "version": 3
   },
   "file_extension": ".py",
   "mimetype": "text/x-python",
   "name": "python",
   "nbconvert_exporter": "python",
   "pygments_lexer": "ipython3",
   "version": "3.9.6"
  },
  "orig_nbformat": 4,
  "vscode": {
   "interpreter": {
    "hash": "644ee83b2e102bce73c699210dcc1532722455bb0e7f4f871d1402f6f00a2952"
   }
  }
 },
 "nbformat": 4,
 "nbformat_minor": 2
}
