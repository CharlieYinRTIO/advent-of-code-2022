{
 "cells": [
  {
   "cell_type": "markdown",
   "metadata": {},
   "source": [
    "## --- Day 4: Camp Cleanup ---"
   ]
  },
  {
   "cell_type": "code",
   "execution_count": 10,
   "metadata": {},
   "outputs": [
    {
     "data": {
      "text/plain": [
       "[['21-82', '22-81'],\n",
       " ['46-47', '21-47'],\n",
       " ['7-88', '27-89'],\n",
       " ['37-38', '33-42'],\n",
       " ['5-99', '51-99']]"
      ]
     },
     "execution_count": 10,
     "metadata": {},
     "output_type": "execute_result"
    }
   ],
   "source": [
    "## Import data\n",
    "with open('day-4-input.txt', 'r') as f:\n",
    "    data = [f.strip().split(\",\") for f in f.readlines()]\n",
    "\n",
    "data[:5]\n",
    "\n"
   ]
  },
  {
   "cell_type": "code",
   "execution_count": 20,
   "metadata": {},
   "outputs": [
    {
     "data": {
      "text/plain": [
       "605"
      ]
     },
     "execution_count": 20,
     "metadata": {},
     "output_type": "execute_result"
    }
   ],
   "source": [
    "## Task 1\n",
    "score = 0\n",
    "for i,j in data:\n",
    "    range1 = [int(i) for i in i.split(\"-\")]\n",
    "    list1 = [i for i in range(range1[0],range1[1] + 1)]\n",
    "    \n",
    "    range2 = [int(i) for i in j.split(\"-\")]\n",
    "    list2 = [i for i in range(range2[0],range2[1] + 1)]\n",
    "\n",
    "    if all(item in list1 for item in list2) or all(item in list2 for item in list1):\n",
    "        score += 1\n",
    "\n",
    "score"
   ]
  },
  {
   "cell_type": "code",
   "execution_count": 24,
   "metadata": {},
   "outputs": [
    {
     "data": {
      "text/plain": [
       "914"
      ]
     },
     "execution_count": 24,
     "metadata": {},
     "output_type": "execute_result"
    }
   ],
   "source": [
    "## Task 2\n",
    "score = 0\n",
    "for i,j in data:\n",
    "    range1 = [int(i) for i in i.split(\"-\")]\n",
    "    list1 = [i for i in range(range1[0],range1[1] + 1)]\n",
    "    \n",
    "    range2 = [int(i) for i in j.split(\"-\")]\n",
    "    list2 = [i for i in range(range2[0],range2[1] + 1)]\n",
    "\n",
    "    overlap = list(set(list1) & set(list2))\n",
    "\n",
    "    if len(overlap) > 0:\n",
    "        score += 1\n",
    "\n",
    "score"
   ]
  }
 ],
 "metadata": {
  "kernelspec": {
   "display_name": "Python 3.9.6 64-bit",
   "language": "python",
   "name": "python3"
  },
  "language_info": {
   "codemirror_mode": {
    "name": "ipython",
    "version": 3
   },
   "file_extension": ".py",
   "mimetype": "text/x-python",
   "name": "python",
   "nbconvert_exporter": "python",
   "pygments_lexer": "ipython3",
   "version": "3.9.6"
  },
  "orig_nbformat": 4,
  "vscode": {
   "interpreter": {
    "hash": "644ee83b2e102bce73c699210dcc1532722455bb0e7f4f871d1402f6f00a2952"
   }
  }
 },
 "nbformat": 4,
 "nbformat_minor": 2
}
