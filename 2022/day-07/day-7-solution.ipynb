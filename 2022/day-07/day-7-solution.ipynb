{
 "cells": [
  {
   "cell_type": "code",
   "execution_count": 29,
   "metadata": {},
   "outputs": [],
   "source": [
    "##import data and import defaultdict\n",
    "\n",
    "from collections import defaultdict\n",
    "\n",
    "with open('day-7-input.txt', 'r') as f:\n",
    "    instructions = [i.strip() for i in f.readlines()][:-1]\n"
   ]
  },
  {
   "cell_type": "code",
   "execution_count": 30,
   "metadata": {},
   "outputs": [],
   "source": [
    "def createDirectory(instructions, defaultDict = True):\n",
    "    \"\"\"\n",
    "    Creates dictionary of directory paths and subtotals for sum of files size\n",
    "    :type : instructions : List\n",
    "    :type : defaultDict : Boolean\n",
    "    :rtype : Dict or defaultdict(int)\n",
    "    \"\"\"\n",
    "    dirPath = []\n",
    "\n",
    "    ## Construct the directory as dictionary OR defaultdict(int)\n",
    "    if defaultDict:\n",
    "        directory = defaultdict(int)\n",
    "    else:\n",
    "        directory = {}\n",
    "\n",
    "    for instruction in instructions:\n",
    "        ## If \"$ cd\" with no \"..\" command is changing directory to the directory provided after the cd command\n",
    "        if \"$ cd\" == instruction[:4] and \"..\" not in instruction: \n",
    "            ## directory name is the characters trailing the \"$ cd\" command\n",
    "            dirName = instruction[5:]\n",
    "\n",
    "            ## directory path is the previous directory path (set at nothing) with the new directory name appended\n",
    "            joinedDir = \"\".join(dirPath) + dirName\n",
    "            dirPath.append(joinedDir)\n",
    "\n",
    "        ## If \"$cd ..\" we are moving backwards one dirName in the dirPath and achieved with a pop\n",
    "        elif \"$ cd ..\" == instruction[:7]:\n",
    "            dirPath.pop()\n",
    "\n",
    "        ## if command starts digit we plus equal the numeric value (size) of the command to the directory path key\n",
    "        elif instruction[0].isdigit():\n",
    "            for direct in dirPath:\n",
    "                ## If using defaultdict(int)\n",
    "                if defaultDict:\n",
    "                    directory[direct] += int(instruction[:instruction.index(\" \")])\n",
    "\n",
    "                ## If using standard dict\n",
    "                else:\n",
    "                    try:\n",
    "                        directory[direct] += int(instruction[:instruction.index(\" \")])\n",
    "                    except KeyError:\n",
    "                        directory[direct] = int(instruction[:instruction.index(\" \")]) \n",
    "\n",
    "    return directory             \n",
    "\n"
   ]
  },
  {
   "cell_type": "code",
   "execution_count": 32,
   "metadata": {},
   "outputs": [
    {
     "data": {
      "text/plain": [
       "True"
      ]
     },
     "execution_count": 32,
     "metadata": {},
     "output_type": "execute_result"
    }
   ],
   "source": [
    "## Create Directory\n",
    "defaultDirectory = createDirectory(instructions, \n",
    "                                   defaultDict = True)\n",
    "\n",
    "directory = createDirectory(instructions, \n",
    "                            defaultDict = False)\n",
    "\n",
    "defaultDirectory == directory"
   ]
  },
  {
   "cell_type": "code",
   "execution_count": 31,
   "metadata": {},
   "outputs": [
    {
     "name": "stdout",
     "output_type": "stream",
     "text": [
      "The sum of the directories with a total size of at most 100000 is 1182909 \n"
     ]
    }
   ],
   "source": [
    "## Task 1 \n",
    "# Find all of the directories with a total size of at most 100000. What is the sum of the total sizes of those directories?\n",
    "\n",
    "directorysSub100000 = [directory[i] for i in directory if directory[i] <= 100_000]\n",
    "\n",
    "print(f\"The sum of the directories with a total size of at most 100000 is {sum(directorysSub100000)} \")"
   ]
  },
  {
   "cell_type": "code",
   "execution_count": 27,
   "metadata": {},
   "outputs": [
    {
     "name": "stdout",
     "output_type": "stream",
     "text": [
      "The smallest directory that can be deleted to free up enough space is 2832508\n"
     ]
    }
   ],
   "source": [
    "## Task 2\n",
    "# Find the smallest directory that, if deleted, would free up enough space on the filesystem to run the update. What is the total size of that directory?\n",
    "rootPath = directory[\"/\"]\n",
    "space = 30_000_000 - (70_000_000 - rootPath)\n",
    "\n",
    "directorysBigEnough = [directory[i] for i in directory if directory[i] >= space]\n",
    "\n",
    "print(f\"The smallest directory that can be deleted to free up enough space is {min(directorysBigEnough)}\")"
   ]
  }
 ],
 "metadata": {
  "kernelspec": {
   "display_name": "Python 3.9.6 64-bit",
   "language": "python",
   "name": "python3"
  },
  "language_info": {
   "codemirror_mode": {
    "name": "ipython",
    "version": 3
   },
   "file_extension": ".py",
   "mimetype": "text/x-python",
   "name": "python",
   "nbconvert_exporter": "python",
   "pygments_lexer": "ipython3",
   "version": "3.9.6"
  },
  "orig_nbformat": 4,
  "vscode": {
   "interpreter": {
    "hash": "644ee83b2e102bce73c699210dcc1532722455bb0e7f4f871d1402f6f00a2952"
   }
  }
 },
 "nbformat": 4,
 "nbformat_minor": 2
}
