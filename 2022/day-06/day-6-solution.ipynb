{
 "cells": [
  {
   "cell_type": "markdown",
   "metadata": {},
   "source": [
    "# --- Day 6: Tuning Trouble ---"
   ]
  },
  {
   "cell_type": "code",
   "execution_count": 25,
   "metadata": {},
   "outputs": [],
   "source": [
    "with open('day-6-input.txt', 'r') as f:\n",
    "    data = f.read()"
   ]
  },
  {
   "cell_type": "code",
   "execution_count": 31,
   "metadata": {},
   "outputs": [],
   "source": [
    "def findNumChars(input, length):\n",
    "    for i in range(len(input)):\n",
    "        string = data[i: i + length]\n",
    "        if len(string) == len(set(string)):\n",
    "            return print(f\"The number of characters that need to be processed before the first start-of-packet marker is detected is {i + length}\")"
   ]
  },
  {
   "cell_type": "code",
   "execution_count": 32,
   "metadata": {},
   "outputs": [
    {
     "name": "stdout",
     "output_type": "stream",
     "text": [
      "The number of characters that need to be processed before the first start-of-packet marker is detected is 1034\n",
      "The number of characters that need to be processed before the first start-of-packet marker is detected is 1034\n"
     ]
    }
   ],
   "source": [
    "## Task 1\n",
    "\n",
    "for i in range(len(data)):\n",
    "    string = data[i:i+4]\n",
    "    if len(string) == len(set(string)):\n",
    "        print(f\"The number of characters that need to be processed before the first start-of-packet marker is detected is {i + 4}\")\n",
    "        break\n",
    "\n",
    "findNumChars(data, 4)\n"
   ]
  },
  {
   "cell_type": "code",
   "execution_count": 33,
   "metadata": {},
   "outputs": [
    {
     "name": "stdout",
     "output_type": "stream",
     "text": [
      "The number of characters that need to be processed before the first start-of-packet marker is detected is 2472\n",
      "The number of characters that need to be processed before the first start-of-packet marker is detected is 2472\n"
     ]
    }
   ],
   "source": [
    "## Task 2\n",
    "for i in range(len(data)):\n",
    "    string = data[i:i+14]\n",
    "    if len(string) == len(set(string)):\n",
    "        print(f\"The number of characters that need to be processed before the first start-of-packet marker is detected is {i + 14}\")\n",
    "        break\n",
    "    \n",
    "findNumChars(data, 14)"
   ]
  }
 ],
 "metadata": {
  "kernelspec": {
   "display_name": "Python 3.9.6 64-bit",
   "language": "python",
   "name": "python3"
  },
  "language_info": {
   "codemirror_mode": {
    "name": "ipython",
    "version": 3
   },
   "file_extension": ".py",
   "mimetype": "text/x-python",
   "name": "python",
   "nbconvert_exporter": "python",
   "pygments_lexer": "ipython3",
   "version": "3.9.6"
  },
  "orig_nbformat": 4,
  "vscode": {
   "interpreter": {
    "hash": "644ee83b2e102bce73c699210dcc1532722455bb0e7f4f871d1402f6f00a2952"
   }
  }
 },
 "nbformat": 4,
 "nbformat_minor": 2
}
