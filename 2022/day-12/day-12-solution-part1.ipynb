{
 "cells": [
  {
   "cell_type": "markdown",
   "metadata": {},
   "source": [
    "# --- Day 12: Hill Climbing Algorithm ---"
   ]
  },
  {
   "cell_type": "code",
   "execution_count": 19,
   "metadata": {},
   "outputs": [],
   "source": [
    "## Simple parse for this one, happy with lines of strings of characters\n",
    "from string import ascii_lowercase\n",
    "with open(\"test.txt\") as f:\n",
    "    data = f.read().strip().splitlines()"
   ]
  },
  {
   "cell_type": "code",
   "execution_count": 38,
   "metadata": {},
   "outputs": [],
   "source": [
    "## Helper function\n",
    "\n",
    "def convertToHeight(char):\n",
    "    if char == \"S\":\n",
    "        return 0 # Starting position has evelation a (0)\n",
    "    elif char == \"E\":\n",
    "        return 25 # end position has elevation z (25)\n",
    "    else:\n",
    "        return ascii_lowercase.index(char) # Else has some evelation 0-25\n"
   ]
  },
  {
   "cell_type": "code",
   "execution_count": 67,
   "metadata": {},
   "outputs": [
    {
     "name": "stdout",
     "output_type": "stream",
     "text": [
      "5\n"
     ]
    }
   ],
   "source": [
    "height = len(data)\n",
    "width = len(data[0])\n",
    "\n",
    "## find start and end coordinates\n",
    "## Would prefer a better way of doing this...but this actually seems to one of the more efficent ways(?)\n",
    "\n",
    "for row in range(height):\n",
    "    for col in range(width):\n",
    "        if data[row][col] == 'S':\n",
    "            start = (row,col)\n",
    "            continue\n",
    "        if data[row][col] == 'E':\n",
    "            end = (row,col)\n",
    "\n",
    "\n",
    "start, end\n",
    "\n",
    "print(height)\n"
   ]
  },
  {
   "cell_type": "code",
   "execution_count": 77,
   "metadata": {},
   "outputs": [],
   "source": [
    "##Taken from day-9\n",
    "direct = {\"D\": [1,0], \"U\":[-1,0], \"R\": [0,1], \"L\": [0,-1]}\n",
    "\n",
    "def getNeighbors(row,col):\n",
    "    global direct,height, width\n",
    "    validNeighbors = []\n",
    "    for key in direct.keys():\n",
    "        ## Get directional values\n",
    "        addRow, addCol = direct[key]\n",
    "        newRow = row + addRow\n",
    "        newCol = col + addCol\n",
    "\n",
    "        ## Need to check if in 'grid'\n",
    "        if (newRow < 0 or newRow > height - 1) or (newCol < 0 or newCol > width - 1):\n",
    "            continue\n",
    "        else:\n",
    "            ## If the neighbor height is at most 1 above current step\n",
    "            if convertToHeight(data[newRow][newCol]) <= convertToHeight(data[row][col]) + 1:\n",
    "                validNeighbors.append((newRow, newCol))\n",
    "        \n",
    "    return validNeighbors"
   ]
  },
  {
   "cell_type": "code",
   "execution_count": 92,
   "metadata": {},
   "outputs": [
    {
     "name": "stdout",
     "output_type": "stream",
     "text": [
      "31\n"
     ]
    }
   ],
   "source": [
    "## Priority Queues https://www.geeksforgeeks.org/priority-queue-in-python/\n",
    "## Essentially maintains the order of the queue but 'gets' the highest priority item in the queue\n",
    "from queue import PriorityQueue\n",
    "\n",
    "## Create a grid of possible locations based on height * width\n",
    "\n",
    "grid = [[\"o\"] * width for i in range(height)]\n",
    "\n",
    "queue = PriorityQueue()\n",
    "\n",
    "queue.put((0, start[0], start[1]))\n",
    "\n",
    "while True:\n",
    "\n",
    "    ## Get the highest priority \n",
    "    step, row, col = queue.get() \n",
    "\n",
    "    ## We have already been here\n",
    "    if grid[row][col] == \"x\":\n",
    "        continue\n",
    "    \n",
    "    ## mark that we have been here\n",
    "    else:\n",
    "        grid[row][col] = \"x\"\n",
    "\n",
    "    ## Shortest amount of steps taken to achieve end\n",
    "    if (row,col) == end: \n",
    "        print(step)\n",
    "        break\n",
    "    \n",
    "    ## Find neighbors and put them in the queue\n",
    "    for newRow, newCol in getNeighbors(row, col):\n",
    "        queue.put((step + 1, newRow, newCol))\n",
    "\n",
    "\n"
   ]
  }
 ],
 "metadata": {
  "kernelspec": {
   "display_name": "Python 3.9.6 64-bit",
   "language": "python",
   "name": "python3"
  },
  "language_info": {
   "codemirror_mode": {
    "name": "ipython",
    "version": 3
   },
   "file_extension": ".py",
   "mimetype": "text/x-python",
   "name": "python",
   "nbconvert_exporter": "python",
   "pygments_lexer": "ipython3",
   "version": "3.9.6"
  },
  "orig_nbformat": 4,
  "vscode": {
   "interpreter": {
    "hash": "644ee83b2e102bce73c699210dcc1532722455bb0e7f4f871d1402f6f00a2952"
   }
  }
 },
 "nbformat": 4,
 "nbformat_minor": 2
}
