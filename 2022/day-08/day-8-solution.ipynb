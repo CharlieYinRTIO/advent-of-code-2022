{
 "cells": [
  {
   "cell_type": "code",
   "execution_count": 5,
   "metadata": {},
   "outputs": [],
   "source": [
    "## Import data and store as list of list with int type\n",
    "with open('day-8-input.txt', 'r') as f:\n",
    "    data = [i.strip() for i in f.readlines()] \n",
    "    for i in range(len(data)):\n",
    "        data[i] = [int(j) for j in data[i]]"
   ]
  },
  {
   "cell_type": "code",
   "execution_count": 6,
   "metadata": {},
   "outputs": [],
   "source": [
    "## Function for task 1\n",
    "def lineOfSight(up, down, left, right, treeHeight):\n",
    "    \"\"\"\n",
    "    returns true if there is a line of sight from any edge to the tree\n",
    "    :type : up : list\n",
    "    :type : down : list\n",
    "    :type : left : list\n",
    "    :type : right : list\n",
    "    :type : treeHeight : int\n",
    "    :rtype : boolean\n",
    "    \"\"\"\n",
    "    return (all(i < treeHeight for i in up) or\n",
    "            all(i < treeHeight for i in down) or \n",
    "            all(i < treeHeight for i in left) or \n",
    "            all(i < treeHeight for i in right))\n",
    "    "
   ]
  },
  {
   "cell_type": "code",
   "execution_count": 7,
   "metadata": {},
   "outputs": [],
   "source": [
    "## Function for part 2\n",
    "def distanceToBigTree(view,treeHeight):\n",
    "    \"\"\"\n",
    "    returns the distance that the tree has untill it is blocked\n",
    "    :type : view : list\n",
    "    :type : treeHeight : int\n",
    "    :rtype : distance : int\n",
    "    \"\"\"\n",
    "    distance = 0\n",
    "    for i in range(len(view)):\n",
    "        if view[i] < treeHeight:\n",
    "            distance += 1\n",
    "        elif view[i] >= treeHeight:\n",
    "            distance += 1\n",
    "            break\n",
    "    return distance\n"
   ]
  },
  {
   "cell_type": "code",
   "execution_count": 8,
   "metadata": {},
   "outputs": [],
   "source": [
    "\n",
    "def solveTask(task,grid,row,col):\n",
    "    \"\"\"\n",
    "    calcs the lineOfSight and distanceToBigTree for each tree in the grid\n",
    "    :type : task : int\n",
    "    :type : grid : List of Lists\n",
    "    :type : row : int\n",
    "    :type : col : int\n",
    "    :rtype : int\n",
    "    \"\"\"\n",
    "    treeHeight = grid[row][col]\n",
    "    lookUp = [grid[x][col] for x in range(row - 1, -1, -1)]\n",
    "    lookDown = [grid[x][col] for x in range(row + 1 , len(grid))]\n",
    "    lookRight = [grid[row][x] for x in range(col + 1 , len(grid[0]))]\n",
    "    lookLeft = [grid[row][x] for x in range(col -1, -1,-1)]\n",
    "    if task == 1:\n",
    "        ## If a tree is visible from at least one side return true\n",
    "        return lineOfSight(lookUp, lookDown, lookLeft, lookRight, treeHeight)\n",
    "\n",
    "    elif task == 2:\n",
    "        return (distanceToBigTree(lookUp,treeHeight) * \n",
    "                distanceToBigTree(lookDown,treeHeight) * \n",
    "                distanceToBigTree(lookLeft,treeHeight) * \n",
    "                distanceToBigTree(lookRight,treeHeight))"
   ]
  },
  {
   "cell_type": "code",
   "execution_count": 9,
   "metadata": {},
   "outputs": [
    {
     "name": "stdout",
     "output_type": "stream",
     "text": [
      "The number of trees that are visible from outside the grid is 1715\n",
      "The highest scenic score possible for any tree is 374400\n"
     ]
    }
   ],
   "source": [
    "## Task 1 \n",
    "# Consider your map; how many trees are visible from outside the grid?\n",
    "\n",
    "# We know all sides are visible, so full first row minus 1 from either side column minus 2 from last row to account for overlap\n",
    "visible = (len(data[0]) * 2) + (len(data) * 2) - 4\n",
    "\n",
    "## Task 2 \n",
    "# Consider each tree on your map. What is the highest scenic score possible for any tree?\n",
    "viewScore = []\n",
    "\n",
    "\n",
    "## Iterate through all trees!\n",
    "for row in range(len(data[0]) - 1):\n",
    "    for col in range(len(data) - 1):\n",
    "        ## If the tree is on the edge do not check if it is visible\n",
    "        if row == 0 or col == 0 or row == len(data[0]) or col == len(data):\n",
    "            pass\n",
    "        else:\n",
    "            ## Calc the viewScore for each tree and append to list of view scores\n",
    "            viewScore.append(solveTask(2,data,row,col))\n",
    "            ## If there is a line of sight to any edge increase the visible variable by 1 \n",
    "            if solveTask(1,data,row,col):\n",
    "                visible += 1\n",
    "\n",
    "\n",
    "print(f\"The number of trees that are visible from outside the grid is {visible}\")\n",
    "\n",
    "print(f\"The highest scenic score possible for any tree is {max(viewScore)}\")\n"
   ]
  }
 ],
 "metadata": {
  "kernelspec": {
   "display_name": "Python 3.9.6 64-bit",
   "language": "python",
   "name": "python3"
  },
  "language_info": {
   "codemirror_mode": {
    "name": "ipython",
    "version": 3
   },
   "file_extension": ".py",
   "mimetype": "text/x-python",
   "name": "python",
   "nbconvert_exporter": "python",
   "pygments_lexer": "ipython3",
   "version": "3.9.6"
  },
  "orig_nbformat": 4,
  "vscode": {
   "interpreter": {
    "hash": "644ee83b2e102bce73c699210dcc1532722455bb0e7f4f871d1402f6f00a2952"
   }
  }
 },
 "nbformat": 4,
 "nbformat_minor": 2
}
