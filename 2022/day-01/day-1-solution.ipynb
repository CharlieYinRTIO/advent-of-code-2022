{
 "cells": [
  {
   "cell_type": "markdown",
   "metadata": {},
   "source": [
    "## --- Day 1: Calorie Counting ---"
   ]
  },
  {
   "cell_type": "code",
   "execution_count": 3,
   "metadata": {},
   "outputs": [],
   "source": [
    "## Import Data \n",
    "\n",
    "with open('day-1-input.txt', 'r') as f:\n",
    "    data = f.read().split('\\n\\n')\n",
    "\n"
   ]
  },
  {
   "cell_type": "code",
   "execution_count": 5,
   "metadata": {},
   "outputs": [
    {
     "name": "stdout",
     "output_type": "stream",
     "text": [
      "The elf carrying the most calories is carrying 68802 calories\n"
     ]
    }
   ],
   "source": [
    "## Task 1 : Find the Elf carrying the most calories. How many total Valories is that Elf carrying\n",
    "\n",
    "## Find the number of calories each elf is carrying and store as int\n",
    "for i in range(len(data)):\n",
    "    data[i] = ([int(j) for j in data[i].split()])\n",
    "\n",
    "## Sum each Elf's calories\n",
    "sumCals = [sum(i) for i in data]\n",
    "\n",
    "print(f\"The elf carrying the most calories is carrying {max(sumCals)} calories\")\n"
   ]
  },
  {
   "cell_type": "code",
   "execution_count": 6,
   "metadata": {},
   "outputs": [
    {
     "name": "stdout",
     "output_type": "stream",
     "text": [
      "The 3 elfs carrying the most calories are carrying a combined total of 205370 calories\n"
     ]
    }
   ],
   "source": [
    "## Task two: Find the top three Elves carrying the most Calories. How many Calories are those Elves carrying in total?\n",
    "\n",
    "## Sort the sum of each Elves calories\n",
    "sortedSumCals = sorted(sumCals, reverse=True)\n",
    "\n",
    "## Sum the top 3\n",
    "topThreeCals = sum(sortedSumCals[:3])\n",
    "\n",
    "print(f\"The 3 elfs carrying the most calories are carrying a combined total of {topThreeCals} calories\")"
   ]
  }
 ],
 "metadata": {
  "kernelspec": {
   "display_name": "Python 3.9.6 64-bit",
   "language": "python",
   "name": "python3"
  },
  "language_info": {
   "codemirror_mode": {
    "name": "ipython",
    "version": 3
   },
   "file_extension": ".py",
   "mimetype": "text/x-python",
   "name": "python",
   "nbconvert_exporter": "python",
   "pygments_lexer": "ipython3",
   "version": "3.9.6"
  },
  "orig_nbformat": 4,
  "vscode": {
   "interpreter": {
    "hash": "644ee83b2e102bce73c699210dcc1532722455bb0e7f4f871d1402f6f00a2952"
   }
  }
 },
 "nbformat": 4,
 "nbformat_minor": 2
}
