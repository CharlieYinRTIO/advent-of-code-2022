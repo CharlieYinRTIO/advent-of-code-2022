{
 "cells": [
  {
   "cell_type": "markdown",
   "metadata": {},
   "source": [
    "## Day one: Calorie Counting"
   ]
  },
  {
   "cell_type": "code",
   "execution_count": 2,
   "metadata": {},
   "outputs": [
    {
     "name": "stdout",
     "output_type": "stream",
     "text": [
      "The elf carrying the most calories is carrying 68802 calories\n",
      "The 3 elfs carrying the most calories are carrying a combined total of 205370 calories\n"
     ]
    }
   ],
   "source": [
    "## Import Data \n",
    "\n",
    "with open('day-1-input.txt', 'r') as f:\n",
    "    data = f.read().split('\\n\\n')\n",
    "\n",
    "\n",
    "## Find the number of calories each elf is carrying and store as int\n",
    "for i in range(len(data)):\n",
    "    data[i] = ([int(j) for j in data[i].split()])\n",
    "\n",
    "\n",
    "## Task one: Find the elf carrying the most Calories. How many total calories is that elf carrying\n",
    "\n",
    "sumCals = [sum(i) for i in data]\n",
    "\n",
    "print(f\"The elf carrying the most calories is carrying {max(sumCals)} calories\")\n",
    "\n",
    "## Task two: Find the top three Elves carrying the most Calories. How many Calories are those Elves carrying in total?\n",
    "\n",
    "sortedSumCals = sorted(sumCals, reverse=True)\n",
    "topThreeCals = sum(sortedSumCals[:3])\n",
    "\n",
    "print(f\"The 3 elfs carrying the most calories are carrying a combined total of {topThreeCals} calories\")\n",
    "\n"
   ]
  },
  {
   "cell_type": "code",
   "execution_count": 40,
   "metadata": {},
   "outputs": [
    {
     "data": {
      "text/plain": [
       "205370"
      ]
     },
     "execution_count": 40,
     "metadata": {},
     "output_type": "execute_result"
    }
   ],
   "source": []
  }
 ],
 "metadata": {
  "kernelspec": {
   "display_name": "Python 3.9.6 64-bit",
   "language": "python",
   "name": "python3"
  },
  "language_info": {
   "codemirror_mode": {
    "name": "ipython",
    "version": 3
   },
   "file_extension": ".py",
   "mimetype": "text/x-python",
   "name": "python",
   "nbconvert_exporter": "python",
   "pygments_lexer": "ipython3",
   "version": "3.9.6"
  },
  "orig_nbformat": 4,
  "vscode": {
   "interpreter": {
    "hash": "644ee83b2e102bce73c699210dcc1532722455bb0e7f4f871d1402f6f00a2952"
   }
  }
 },
 "nbformat": 4,
 "nbformat_minor": 2
}
