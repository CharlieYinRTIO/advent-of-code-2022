{
 "cells": [
  {
   "cell_type": "markdown",
   "metadata": {},
   "source": [
    "# --- Day 11: Monkey in the Middle ---"
   ]
  },
  {
   "cell_type": "code",
   "execution_count": 7,
   "metadata": {},
   "outputs": [],
   "source": [
    "day = 11\n",
    "\n",
    "## Import data and store as list of list with int type\n",
    "with open(f'day-{str(day)}-input.txt', 'r') as f:\n",
    "    data = [i for i in f.read().split(\"\\n\\n\")]\n",
    "\n",
    "\n",
    "## Get data into list of lists with each element a line in the monkey instruction, get rid of tabs as it will just make things annoying \n",
    "monkeys = []\n",
    "for i in data:\n",
    "    monkeys.append([z.strip() for z in i.split('\\n')])"
   ]
  },
  {
   "cell_type": "code",
   "execution_count": 8,
   "metadata": {},
   "outputs": [],
   "source": [
    "## define monkey class!\n",
    "\n",
    "class Monkey:\n",
    "    def __init__(self, number, startingItems, monkeyOper, monkeyTest):\n",
    "        self.number = number\n",
    "        self.startingItems = startingItems\n",
    "        self.monkeyOper = monkeyOper\n",
    "        self.monkeyTest = monkeyTest\n",
    "        self.numInspections = 0\n",
    "    \n",
    "    def __print__(self):\n",
    "        print(f\"\"\"\n",
    "        Monkey {self.number} has the starting items as follows: {self.startingItems}. \\n\n",
    "        Monkey {self.number} has the following operation {self.monkeyOper} with the follow test values {self.monkeyTest}\n",
    "            \"\"\")\n",
    "\n",
    "    def splitOperation(self):\n",
    "        return self.monkeyOper[1],self.monkeyOper[2]\n",
    "\n",
    "    def splitTest(self):\n",
    "        return self.monkeyTest[0],self.monkeyTest[1],self.monkeyTest[2]\n",
    "\n",
    "\n",
    "## Function to set intital monkeys as class object\n",
    "def makeMonkeys(input):\n",
    "    monkeyObjs = []\n",
    "\n",
    "    for idx, monkey in enumerate(monkeys):\n",
    "        ## Monkey number\n",
    "        number = idx\n",
    "\n",
    "        ## Starting Items\n",
    "        startingItems = monkey[1].replace(\"Starting items: \", \"\")\n",
    "        startingItems = [int(i) for i in startingItems.split(\",\")]\n",
    "\n",
    "        ## Monkey Operation\n",
    "        monkeyOper = monkey[2].replace(\"Operation: new = \", \"\")\n",
    "        monkeyOper = [i for i in monkeyOper.split()]\n",
    "        \n",
    "        ## Monkey Test\n",
    "        monkeyTest = int(monkey[3].replace(\"Test: divisible by \", \"\"))\n",
    "        monkeyTrue = int(monkey[4][-1])\n",
    "        monkeyFalse = int(monkey[5][-1])\n",
    "\n",
    "        ## Append parsed values to monkeyObjs list and store as Monkey Object.\n",
    "        monkeyObjs.append(Monkey(\n",
    "            number = number,\n",
    "            startingItems = startingItems,\n",
    "            monkeyOper = monkeyOper,\n",
    "            monkeyTest = (monkeyTest,monkeyTrue,monkeyFalse)\n",
    "        ))\n",
    "    return monkeyObjs\n",
    "\n",
    "## Helper function for determining worry level given a monkeys operations\n",
    "\n",
    "def determineWorry(monkey,item,newMod):\n",
    "    operation, right = monkey.splitOperation()\n",
    "\n",
    "    if right == \"old\":\n",
    "        if operation == \"+\" or operation == \"-\":\n",
    "            ret =  item + item\n",
    "        elif operation == \"*\":\n",
    "            ret =  item * item\n",
    "    elif right != \"old\":\n",
    "        if operation == \"+\" or operation == \"-\":\n",
    "            ret =  item + int(right) \n",
    "        elif operation == \"*\":\n",
    "            ret =  item * int(right)\n",
    "    \n",
    "    return ret % newMod\n",
    "\n",
    "\n",
    "## Run the simulation!\n",
    "\n",
    "def monkeySimulation(monkeyObjs, rounds, newMod):\n",
    "    ## Each round\n",
    "    for _ in range(rounds):\n",
    "        ## Each monkey obj\n",
    "        for monkey in monkeyObjs :\n",
    "            ## pull out the split test\n",
    "            mod, trueMonkey, falseMonkey = monkey.splitTest()\n",
    "\n",
    "            ## Each item in starting Items\n",
    "            for item in monkey.startingItems:\n",
    "                ## Determine worry level\n",
    "                item = determineWorry(monkey, item, newMod)\n",
    "                \n",
    "                ## Determine who to throw to if modular expression is true\n",
    "                if item % mod == 0:\n",
    "                    ## add item to the tru monkey\n",
    "                    monkeyObjs[trueMonkey].startingItems.append(item)\n",
    "                else:\n",
    "                    ## add item to the false monkey\n",
    "                    monkeyObjs[falseMonkey].startingItems.append(item)\n",
    "                \n",
    "                ## Add one more inspection to the monkey!\n",
    "                monkey.numInspections += 1\n",
    "            \n",
    "        ## for the particular monkey we have now distributed all the items so the startingItems attribute can be reset\n",
    "            monkey.startingItems = [] \n",
    "    \n",
    "    return monkeyObjs\n"
   ]
  },
  {
   "cell_type": "code",
   "execution_count": 10,
   "metadata": {},
   "outputs": [
    {
     "data": {
      "text/plain": [
       "30616425600"
      ]
     },
     "execution_count": 10,
     "metadata": {},
     "output_type": "execute_result"
    }
   ],
   "source": [
    "## Task 1 \n",
    "# Figure out which monkeys to chase by counting how many items they inspect over 20 rounds. \n",
    "# What is the level of monkey business after 20 rounds of stuff-slinging simian shenanigans?\n",
    "\n",
    "## Make Monkeys!\n",
    "monkeyObjs = makeMonkeys(monkeys)\n",
    "\n",
    "## Disclaimer, I've had a someone with a maths phd try to explain this to me, i dont understand, i would prefer to let it run for a few months\n",
    "newMod = 1\n",
    "for monkey in monkeyObjs:\n",
    "    newMod *= monkey.monkeyTest[0]\n",
    "\n",
    "## Number of monkeys!\n",
    "numMonkeys = len(monkeyObjs)\n",
    "\n",
    "## Run simulation\n",
    "monkeyObjs = monkeySimulation(monkeyObjs, 10_000, newMod)\n",
    "\n",
    "monkeyInspections = sorted([monkey.numInspections for monkey in monkeyObjs],reverse=True)\n",
    "\n",
    "monkeyInspections[1] * monkeyInspections[0]"
   ]
  }
 ],
 "metadata": {
  "kernelspec": {
   "display_name": "Python 3.9.6 64-bit",
   "language": "python",
   "name": "python3"
  },
  "language_info": {
   "codemirror_mode": {
    "name": "ipython",
    "version": 3
   },
   "file_extension": ".py",
   "mimetype": "text/x-python",
   "name": "python",
   "nbconvert_exporter": "python",
   "pygments_lexer": "ipython3",
   "version": "3.9.6"
  },
  "orig_nbformat": 4,
  "vscode": {
   "interpreter": {
    "hash": "644ee83b2e102bce73c699210dcc1532722455bb0e7f4f871d1402f6f00a2952"
   }
  }
 },
 "nbformat": 4,
 "nbformat_minor": 2
}
