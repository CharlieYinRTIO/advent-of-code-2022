{
 "cells": [
  {
   "cell_type": "markdown",
   "metadata": {},
   "source": [
    "# --- Day 5: Supply Stacks ---"
   ]
  },
  {
   "cell_type": "code",
   "execution_count": 157,
   "metadata": {},
   "outputs": [],
   "source": [
    "with open('day-5-input.txt', 'r') as f:\n",
    "    data = [i.strip() for i in f.readlines()]\n",
    "\n",
    "def getStacks(data):\n",
    "    \"\"\"\n",
    "    Sorry not sorry\n",
    "    \"\"\"\n",
    "    initStacks = data[:8]\n",
    "    stacks = []\n",
    "\n",
    "    for i in range(0,len(initStacks[0]),4):\n",
    "        stacks.append([row[i:i+4].replace(\"[\",\"\").replace(\"]\",\"\").replace(\" \",\"\") for row in initStacks])\n",
    "        \n",
    "    for i in range(len(stacks)):\n",
    "        stacks[i] = [i for i in stacks[i] if i != '']\n",
    "\n",
    "    return stacks\n",
    "\n",
    "def getInstructions(data):\n",
    "    return data[10:]\n"
   ]
  },
  {
   "cell_type": "code",
   "execution_count": 172,
   "metadata": {},
   "outputs": [
    {
     "name": "stdout",
     "output_type": "stream",
     "text": [
      "The top crates across all stacks is PTWLTDSJV\n"
     ]
    }
   ],
   "source": [
    "## Task 1\n",
    "stacks = getStacks(data)\n",
    "instructions = getInstructions(data)\n",
    "\n",
    "for instruction in instructions:\n",
    "    instructionInfo = [int(i) for i in instruction.split(\" \") if i.isnumeric()]\n",
    "\n",
    "    numCrates, stackFrom, stackTo = instructionInfo[0],instructionInfo[1],instructionInfo[2]\n",
    "\n",
    "    cratesToMove = stacks[stackFrom - 1][0 : numCrates][::-1]\n",
    "\n",
    "    stacks[stackFrom - 1] = stacks[stackFrom - 1][numCrates:]\n",
    "\n",
    "    stacks[stackTo - 1] = cratesToMove + stacks[stackTo - 1]\n",
    "\n",
    "    ## First attempt\n",
    "\n",
    "    # for crate in range(numCrates):\n",
    "    #     ## Pop the crate from stack\n",
    "    #     movingCrate = stacks[stackFrom - 1].pop(0)\n",
    "    #     ## Insert popped crated back into new stack\n",
    "    #     stacks[stackTo - 1].insert(0, movingCrate)\n",
    "\n",
    "task1 = \"\".join([i[0] for i in stacks])\n",
    "\n",
    "print(f\"The top crates across all stacks is {task1}\")"
   ]
  },
  {
   "cell_type": "code",
   "execution_count": 169,
   "metadata": {},
   "outputs": [
    {
     "name": "stdout",
     "output_type": "stream",
     "text": [
      "The top crates across all stacks is WZMFVGGZP\n"
     ]
    }
   ],
   "source": [
    "## Task 2 \n",
    "stacks = getStacks(data)\n",
    "instructions = getInstructions(data)\n",
    "\n",
    "for instruction in instructions:\n",
    "\n",
    "    instructionInfo = [int(i) for i in instruction.split(\" \") if i.isnumeric()]\n",
    "\n",
    "    numCrates, stackFrom, stackTo = instructionInfo[0],instructionInfo[1],instructionInfo[2]\n",
    "\n",
    "    cratesToMove = stacks[stackFrom - 1][0 : numCrates]\n",
    "\n",
    "    stacks[stackFrom - 1] = stacks[stackFrom - 1][numCrates:]\n",
    "\n",
    "    stacks[stackTo - 1] = cratesToMove + stacks[stackTo - 1]\n",
    "\n",
    "task2 = \"\".join([i[0] for i in stacks])\n",
    "\n",
    "print(f\"The top crates across all stacks is {task2}\")"
   ]
  }
 ],
 "metadata": {
  "kernelspec": {
   "display_name": "Python 3.9.6 64-bit",
   "language": "python",
   "name": "python3"
  },
  "language_info": {
   "codemirror_mode": {
    "name": "ipython",
    "version": 3
   },
   "file_extension": ".py",
   "mimetype": "text/x-python",
   "name": "python",
   "nbconvert_exporter": "python",
   "pygments_lexer": "ipython3",
   "version": "3.9.6"
  },
  "orig_nbformat": 4,
  "vscode": {
   "interpreter": {
    "hash": "644ee83b2e102bce73c699210dcc1532722455bb0e7f4f871d1402f6f00a2952"
   }
  }
 },
 "nbformat": 4,
 "nbformat_minor": 2
}
